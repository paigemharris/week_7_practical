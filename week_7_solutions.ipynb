{
 "cells": [
  {
   "cell_type": "code",
   "execution_count": 4,
   "id": "e3ff195c",
   "metadata": {},
   "outputs": [
    {
     "name": "stderr",
     "output_type": "stream",
     "text": [
      "Registered S3 methods overwritten by 'ggplot2':\n",
      "  method         from \n",
      "  [.quosures     rlang\n",
      "  c.quosures     rlang\n",
      "  print.quosures rlang\n",
      "Registered S3 method overwritten by 'rvest':\n",
      "  method            from\n",
      "  read_xml.response xml2\n",
      "-- Attaching packages --------------------------------------- tidyverse 1.2.1 --\n",
      "v ggplot2 3.1.1       v purrr   0.3.2  \n",
      "v tibble  2.1.1       v dplyr   0.8.0.1\n",
      "v tidyr   0.8.3       v stringr 1.4.0  \n",
      "v readr   1.3.1       v forcats 0.4.0  \n",
      "-- Conflicts ------------------------------------------ tidyverse_conflicts() --\n",
      "x dplyr::filter() masks stats::filter()\n",
      "x dplyr::lag()    masks stats::lag()\n"
     ]
    }
   ],
   "source": [
    "library(tidyverse)"
   ]
  },
  {
   "cell_type": "markdown",
   "id": "d0486091",
   "metadata": {},
   "source": [
    "Q.1\n",
    "* We have use the following dataset in the course material to generate two datasets form the same distribution but which have different sample means\n",
    "  * here I am generating only 5 samples, insteaf of the 40 generated in the course material"
   ]
  },
  {
   "cell_type": "code",
   "execution_count": 4,
   "id": "3b0a10f7",
   "metadata": {},
   "outputs": [
    {
     "data": {
      "text/html": [
       "<table>\n",
       "<thead><tr><th scope=col>measure</th><th scope=col>site_name</th></tr></thead>\n",
       "<tbody>\n",
       "\t<tr><td>10.291195</td><td>Site 1   </td></tr>\n",
       "\t<tr><td>11.388863</td><td>Site 1   </td></tr>\n",
       "\t<tr><td>10.649010</td><td>Site 1   </td></tr>\n",
       "\t<tr><td>11.477876</td><td>Site 1   </td></tr>\n",
       "\t<tr><td>10.438720</td><td>Site 1   </td></tr>\n",
       "\t<tr><td>10.522318</td><td>Site 2   </td></tr>\n",
       "\t<tr><td> 9.955392</td><td>Site 2   </td></tr>\n",
       "\t<tr><td>11.484413</td><td>Site 2   </td></tr>\n",
       "\t<tr><td> 8.408989</td><td>Site 2   </td></tr>\n",
       "\t<tr><td>10.225640</td><td>Site 2   </td></tr>\n",
       "</tbody>\n",
       "</table>\n"
      ],
      "text/latex": [
       "\\begin{tabular}{r|ll}\n",
       " measure & site\\_name\\\\\n",
       "\\hline\n",
       "\t 10.291195 & Site 1   \\\\\n",
       "\t 11.388863 & Site 1   \\\\\n",
       "\t 10.649010 & Site 1   \\\\\n",
       "\t 11.477876 & Site 1   \\\\\n",
       "\t 10.438720 & Site 1   \\\\\n",
       "\t 10.522318 & Site 2   \\\\\n",
       "\t  9.955392 & Site 2   \\\\\n",
       "\t 11.484413 & Site 2   \\\\\n",
       "\t  8.408989 & Site 2   \\\\\n",
       "\t 10.225640 & Site 2   \\\\\n",
       "\\end{tabular}\n"
      ],
      "text/markdown": [
       "\n",
       "| measure | site_name |\n",
       "|---|---|\n",
       "| 10.291195 | Site 1    |\n",
       "| 11.388863 | Site 1    |\n",
       "| 10.649010 | Site 1    |\n",
       "| 11.477876 | Site 1    |\n",
       "| 10.438720 | Site 1    |\n",
       "| 10.522318 | Site 2    |\n",
       "|  9.955392 | Site 2    |\n",
       "| 11.484413 | Site 2    |\n",
       "|  8.408989 | Site 2    |\n",
       "| 10.225640 | Site 2    |\n",
       "\n"
      ],
      "text/plain": [
       "   measure   site_name\n",
       "1  10.291195 Site 1   \n",
       "2  11.388863 Site 1   \n",
       "3  10.649010 Site 1   \n",
       "4  11.477876 Site 1   \n",
       "5  10.438720 Site 1   \n",
       "6  10.522318 Site 2   \n",
       "7   9.955392 Site 2   \n",
       "8  11.484413 Site 2   \n",
       "9   8.408989 Site 2   \n",
       "10 10.225640 Site 2   "
      ]
     },
     "metadata": {},
     "output_type": "display_data"
    }
   ],
   "source": [
    "set.seed(110)\n",
    "data_1 = tibble(measure=rnorm(5, 10, 1))\n",
    "data_1$site_name <- 'Site 1'\n",
    "data_2 = tibble(measure=rnorm(5, 10, 1))\n",
    "data_2$site_name <- 'Site 2'\n",
    "complete_data = rbind(data_1, data_2)\n",
    "complete_data"
   ]
  },
  {
   "cell_type": "code",
   "execution_count": null,
   "id": "561899fd",
   "metadata": {},
   "outputs": [],
   "source": [
    "* I compute the mean of the dataset above using the following code:\n",
    "  * feel free to deconstruct the code to see what each chunk does.\n"
   ]
  },
  {
   "cell_type": "code",
   "execution_count": 5,
   "id": "dde6ba00",
   "metadata": {},
   "outputs": [
    {
     "data": {
      "text/html": [
       "10.8491329008612"
      ],
      "text/latex": [
       "10.8491329008612"
      ],
      "text/markdown": [
       "10.8491329008612"
      ],
      "text/plain": [
       "[1] 10.84913"
      ]
     },
     "metadata": {},
     "output_type": "display_data"
    },
    {
     "data": {
      "text/html": [
       "10.1193505444919"
      ],
      "text/latex": [
       "10.1193505444919"
      ],
      "text/markdown": [
       "10.1193505444919"
      ],
      "text/plain": [
       "[1] 10.11935"
      ]
     },
     "metadata": {},
     "output_type": "display_data"
    }
   ],
   "source": [
    "mean(complete_data[complete_data$site_name == \"Site 1\", ]$measure)\n",
    "mean(complete_data[complete_data$site_name == \"Site 2\", ]$measure)"
   ]
  },
  {
   "cell_type": "markdown",
   "id": "1ac520b8",
   "metadata": {},
   "source": [
    "* Use the `tapply` function instead of the code above to compute the means samples from \"Site 1\" and those from site 2\n",
    "  * See tapply for help if needed"
   ]
  },
  {
   "cell_type": "code",
   "execution_count": 7,
   "id": "501355df",
   "metadata": {},
   "outputs": [
    {
     "data": {
      "text/html": [
       "<dl class=dl-horizontal>\n",
       "\t<dt>Site 1</dt>\n",
       "\t\t<dd>10.8491329008612</dd>\n",
       "\t<dt>Site 2</dt>\n",
       "\t\t<dd>10.1193505444919</dd>\n",
       "</dl>\n"
      ],
      "text/latex": [
       "\\begin{description*}\n",
       "\\item[Site 1] 10.8491329008612\n",
       "\\item[Site 2] 10.1193505444919\n",
       "\\end{description*}\n"
      ],
      "text/markdown": [
       "Site 1\n",
       ":   10.8491329008612Site 2\n",
       ":   10.1193505444919\n",
       "\n"
      ],
      "text/plain": [
       "  Site 1   Site 2 \n",
       "10.84913 10.11935 "
      ]
     },
     "metadata": {},
     "output_type": "display_data"
    }
   ],
   "source": [
    "tapply(complete_data$measure, complete_data$site_name, mean)"
   ]
  },
  {
   "cell_type": "markdown",
   "id": "fd91de00",
   "metadata": {},
   "source": [
    "Q.2 \n",
    "Recall that the test conducted on full version of data_1 and data_2 led us to conlclude that the difference between the two datasets is statistically significant, when both samples were in fact from the same distirbution  $\\mathcal{N}(\\mu=10, \\sigma=1)$\n",
    "\n",
    "* Use the boostrapping-based test covered in class to assess whether you arrive at the same conclusion\n",
    "\n",
    "* You can generate the data using the code snippet below\n",
    "\n"
   ]
  },
  {
   "cell_type": "code",
   "execution_count": 8,
   "id": "f129769f",
   "metadata": {},
   "outputs": [],
   "source": [
    "set.seed(110)\n",
    "data_1 = tibble(measure=rnorm(40, 10, 1))\n",
    "data_1$site_name <- 'Site 1'\n",
    "data_2 = tibble(measure=rnorm(40, 13, 1))\n",
    "data_2$site_name <- 'Site 2'\n",
    "complete_data = rbind(data_1, data_2)\n"
   ]
  },
  {
   "cell_type": "code",
   "execution_count": 9,
   "id": "6fd0e510",
   "metadata": {},
   "outputs": [
    {
     "data": {
      "image/png": "[encoded data removed]",
      "text/plain": [
       "plot without title"
      ]
     },
     "metadata": {},
     "output_type": "display_data"
    }
   ],
   "source": [
    "ggplot(complete_data, aes(x=measure, fill = site_name)) + \n",
    "  geom_density(alpha = 0.4, bw =0.60) + \n",
    "  xlim(5,18)\n"
   ]
  },
  {
   "cell_type": "code",
   "execution_count": 10,
   "id": "fe429410",
   "metadata": {},
   "outputs": [
    {
     "data": {
      "text/plain": [
       "\n",
       "\tWelch Two Sample t-test\n",
       "\n",
       "data:  data_1$measure and data_2$measure\n",
       "t = -12.056, df = 74.217, p-value < 2.2e-16\n",
       "alternative hypothesis: true difference in means is not equal to 0\n",
       "95 percent confidence interval:\n",
       " -2.975853 -2.131763\n",
       "sample estimates:\n",
       "mean of x mean of y \n",
       " 10.14979  12.70360 \n"
      ]
     },
     "metadata": {},
     "output_type": "display_data"
    }
   ],
   "source": [
    "t.test(data_1$measure, data_2$measure)"
   ]
  },
  {
   "cell_type": "code",
   "execution_count": 12,
   "id": "081f05a6",
   "metadata": {},
   "outputs": [],
   "source": [
    "passes_t_test = replicate(10000, \n",
    "    t.test(data_1$measure, data_2$measure)$p.value\n",
    ")  < 0.05"
   ]
  },
  {
   "cell_type": "code",
   "execution_count": 13,
   "id": "faeaf8e0",
   "metadata": {},
   "outputs": [
    {
     "data": {
      "text/html": [
       "1"
      ],
      "text/latex": [
       "1"
      ],
      "text/markdown": [
       "1"
      ],
      "text/plain": [
       "[1] 1"
      ]
     },
     "metadata": {},
     "output_type": "display_data"
    }
   ],
   "source": [
    "sum(passes_t_test) / length(passes_t_test)"
   ]
  },
  {
   "cell_type": "markdown",
   "id": "71226301",
   "metadata": {},
   "source": [
    "Q.3 \n",
    "\n",
    "* The proportion of the of _P. lobata_, _M. capitata_ and _P. mendrina_ at a site X are c(0.60, 0.19, 0.21).\n",
    "* You surveyed a site Y with somewhat differentenvironmental conditions and obtains the following proportions for the same coral (0.61, 0.19, 0.20). Use the multinomial non-parameteric hypotheses test to assess the proportions obtained at sites X and Y are statistically differnet\n",
    "\n"
   ]
  },
  {
   "cell_type": "code",
   "execution_count": 6,
   "id": "b6cc7eff",
   "metadata": {},
   "outputs": [
    {
     "data": {
      "text/html": [
       "<table>\n",
       "<thead><tr><th scope=col>kind</th><th scope=col>ratios</th><th scope=col>site</th></tr></thead>\n",
       "<tbody>\n",
       "\t<tr><td>P. lobata  </td><td>0.60       </td><td>X          </td></tr>\n",
       "\t<tr><td>P. lobata  </td><td>0.61       </td><td>Y          </td></tr>\n",
       "\t<tr><td>M. capitata</td><td>0.19       </td><td>X          </td></tr>\n",
       "\t<tr><td>M. capitata</td><td>0.19       </td><td>Y          </td></tr>\n",
       "\t<tr><td>P. mendrina</td><td>0.21       </td><td>X          </td></tr>\n",
       "\t<tr><td>P. mendrina</td><td>0.20       </td><td>Y          </td></tr>\n",
       "</tbody>\n",
       "</table>\n"
      ],
      "text/latex": [
       "\\begin{tabular}{r|lll}\n",
       " kind & ratios & site\\\\\n",
       "\\hline\n",
       "\t P. lobata   & 0.60        & X          \\\\\n",
       "\t P. lobata   & 0.61        & Y          \\\\\n",
       "\t M. capitata & 0.19        & X          \\\\\n",
       "\t M. capitata & 0.19        & Y          \\\\\n",
       "\t P. mendrina & 0.21        & X          \\\\\n",
       "\t P. mendrina & 0.20        & Y          \\\\\n",
       "\\end{tabular}\n"
      ],
      "text/markdown": [
       "\n",
       "| kind | ratios | site |\n",
       "|---|---|---|\n",
       "| P. lobata   | 0.60        | X           |\n",
       "| P. lobata   | 0.61        | Y           |\n",
       "| M. capitata | 0.19        | X           |\n",
       "| M. capitata | 0.19        | Y           |\n",
       "| P. mendrina | 0.21        | X           |\n",
       "| P. mendrina | 0.20        | Y           |\n",
       "\n"
      ],
      "text/plain": [
       "  kind        ratios site\n",
       "1 P. lobata   0.60   X   \n",
       "2 P. lobata   0.61   Y   \n",
       "3 M. capitata 0.19   X   \n",
       "4 M. capitata 0.19   Y   \n",
       "5 P. mendrina 0.21   X   \n",
       "6 P. mendrina 0.20   Y   "
      ]
     },
     "metadata": {},
     "output_type": "display_data"
    }
   ],
   "source": [
    "kind = c('P. lobata', 'P. lobata', 'M. capitata', 'M. capitata', 'P. mendrina', 'P. mendrina')\n",
    "ratios = c(0.60, 0.61, 0.19, 0.19, 0.21, 0.20)\n",
    "site = rep(c(\"X\", \"Y\"), 3)\n",
    "\n",
    "\n",
    "coral_proportions = tibble(kind, ratios, site)\n",
    "coral_proportions"
   ]
  },
  {
   "cell_type": "code",
   "execution_count": 7,
   "id": "e89f9a10",
   "metadata": {},
   "outputs": [
    {
     "data": {
      "text/html": [
       "0.04"
      ],
      "text/latex": [
       "0.04"
      ],
      "text/markdown": [
       "0.04"
      ],
      "text/plain": [
       "[1] 0.04"
      ]
     },
     "metadata": {},
     "output_type": "display_data"
    }
   ],
   "source": [
    "sampleOneIteration = function(){\n",
    "    true_proportions = c(0.60, 0.19, 0.21)\n",
    "    sample_proportions = rmultinom(1, 200, prob=c(0.60, 0.19, 0.21))/200\n",
    "    sample_tvd = sum(abs(true_proportions- sample_proportions))/2\n",
    "    sample_tvd\n",
    "        \n",
    "}\n",
    "sampleOneIteration()"
   ]
  },
  {
   "cell_type": "code",
   "execution_count": 8,
   "id": "4fa9d682",
   "metadata": {},
   "outputs": [],
   "source": [
    "tvds = replicate(1000, sampleOneIteration())"
   ]
  },
  {
   "cell_type": "code",
   "execution_count": 10,
   "id": "6876c726",
   "metadata": {},
   "outputs": [],
   "source": [
    "subtract_abs = function(x){\n",
    "    abs(x[1] - x[2])\n",
    "}\n",
    "observed_stat = sum(tapply(coral_proportions$ratios, coral_proportions$kind, subtract_abs))/2"
   ]
  },
  {
   "cell_type": "code",
   "execution_count": 11,
   "id": "1f434f11",
   "metadata": {},
   "outputs": [
    {
     "data": {
      "text/html": [
       "0.952"
      ],
      "text/latex": [
       "0.952"
      ],
      "text/markdown": [
       "0.952"
      ],
      "text/plain": [
       "[1] 0.952"
      ]
     },
     "metadata": {},
     "output_type": "display_data"
    }
   ],
   "source": [
    "p_value = sum(tvds > observed_stat)  / length(tvds)\n",
    "p_value"
   ]
  }
 ],
 "metadata": {
  "kernelspec": {
   "display_name": "R",
   "language": "R",
   "name": "ir"
  },
  "language_info": {
   "codemirror_mode": "r",
   "file_extension": ".r",
   "mimetype": "text/x-r-source",
   "name": "R",
   "pygments_lexer": "r",
   "version": "3.6.1"
  }
 },
 "nbformat": 4,
 "nbformat_minor": 5
}
